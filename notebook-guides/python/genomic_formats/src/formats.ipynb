{
 "cells": [
  {
   "cell_type": "code",
   "execution_count": 2,
   "metadata": {
    "pycharm": {
     "is_executing": true
    }
   },
   "outputs": [],
   "source": [
    "import os\n",
    "import pysam\n",
    "import pandas as pd\n",
    "from Bio import SeqIO"
   ]
  },
  {
   "cell_type": "markdown",
   "metadata": {},
   "source": [
    "# Bioinformatic File Formats Notebook"
   ]
  },
  {
   "cell_type": "markdown",
   "metadata": {},
   "source": [
    "## Introduction\n",
    "\n",
    "Loka manage different clients with different needs depending the user use cases and business needs. This mean we need to be informed regards the different file formats we can see and the different storage technologies to allocated it, the diffetent posible processings it can suffer and the different analysis and ways to retrieve the informacion.\n",
    "\n",
    "This guide is designed to inform and give some bases to manage the diffent genetic formats.\n",
    "\n",
    "First at all it is important to determine the kind of life information we are treating. In life science we can see Omics information (Genomic, Proteomic and Metabolomic info), molecular and physico-chemical information, and clinical information. This guide only will cover Genomic information.\n",
    "\n",
    "In this notebook, we will explore some of the most common bioinformatics file formats: BCL, SRRA,  ,FASTA, BAM, BED, and VCF. We will see how these files are structured and how to read them using Python.\n",
    "\n",
    "It is important to firstly undestand the process to get the bioinformatic data.\n",
    "\n",
    "1. Sample Collection\n",
    "Obtaining Biological Samples: Biological samples such as blood, tissues, or cells from plants and animals are collected.\n",
    "Sample Preparation: The samples are prepared for analysis, which may include extracting DNA or RNA.\n",
    "2. Sequencing\n",
    "Sequencing Machines: The DNA or RNA samples are loaded into a sequencing machine. Illumina machines are very common.\n",
    "Data Generation: The machine reads the sequences of nucleotides (A, T, C, G) in the DNA or RNA and generates sequence data.\n",
    "3. Generation of Raw Data (BCL)\n",
    "BCL Files: Sequencing machines generate BCL files, which contain raw data of the base calls (the \"letters\" of the sequences) and their quality.\n",
    "4. Data Conversion (FASTQ)\n",
    "Conversion to FASTQ: The BCL files are converted to a more manageable format called FASTQ using specialized software. FASTQ files contain the DNA/RNA sequences and the quality of each base.\n",
    "Storage and Preprocessing: FASTQ files are stored and preprocessed to remove low-quality data or contaminants.\n",
    "5. Bioinformatics Analysis\n",
    "Sequence Analysis: FASTQ files are analyzed to identify genes, genetic variants, or to assemble complete genomes.\n",
    "Comparison with Databases: The sequences are compared with known sequence databases (e.g., using BLAST).\n",
    "6. Data Storage and Sharing (SRA)\n",
    "SRA Files: For archiving and sharing, sequence data can be stored in the Sequence Read Archive (SRA) format, which includes sequence reads and associated metadata.\n",
    "Data Submission: Researchers submit their sequencing data to repositories like NCBI, where it is stored in SRA format for public access and further research.\n",
    "In summary, the process starts with collecting and preparing biological samples, sequencing the DNA or RNA to generate raw data (BCL files), converting these to FASTQ files for analysis, and finally storing and sharing the data in SRA format. Each step involves specific tools and techniques to ensure the data is accurate, manageable, and useful for research.\n",
    "\n",
    "That said, we can proceed to explore the structure of each of the non binary file formats and how to operate on them.\n"
   ]
  },
  {
   "cell_type": "markdown",
   "metadata": {},
   "source": [
    "## Requirements\n",
    "To follow along with this notebook, you need to install the following libraries:\n",
    "```bash\n",
    "pip install biopython pysam pandas"
   ]
  },
  {
   "cell_type": "markdown",
   "metadata": {},
   "source": [
    "### Fasta Format\n",
    "#### Description\n",
    "The FASTA format is used to represent nucleotide or protein sequences. Each sequence begins with a description line starting with '>', followed by lines of sequence data.\n",
    "\n",
    "##### Reading FASTA Files in Python\n",
    "We will use the Biopython library to read FASTA files."
   ]
  },
  {
   "cell_type": "code",
   "execution_count": 6,
   "metadata": {},
   "outputs": [
    {
     "name": "stdout",
     "output_type": "stream",
     "text": [
      "ID: seq1\n",
      "Sequence: AGCTAGCTAGCTACGATCG\n",
      "ID: seq2\n",
      "Sequence: CGATCGATCGATCGATCGA\n"
     ]
    }
   ],
   "source": [
    "from Bio import SeqIO\n",
    "\n",
    "# Read FASTA file\n",
    "fasta_file = \"../../../../data/fasta_sample.fasta\"\n",
    "for record in SeqIO.parse(fasta_file, \"fasta\"):\n",
    "    print(f\"ID: {record.id}\")\n",
    "    print(f\"Sequence: {record.seq}\")"
   ]
  },
  {
   "cell_type": "markdown",
   "metadata": {},
   "source": [
    "### BAM Format\n",
    "\n",
    "#### Description\n",
    "The BAM format is the binary version of the SAM format, used to store sequence alignments. It is space-efficient and allows for fast access.\n",
    "\n",
    "BAM files Can not be shown directly as it is a binary format.\n",
    "\n",
    "##### Reading BAM Files in Python\n",
    "We will use the pysam library to read BAM files."
   ]
  },
  {
   "cell_type": "code",
   "execution_count": null,
   "metadata": {},
   "outputs": [],
   "source": [
    "import pysam\n",
    "\n",
    "# Read BAM file\n",
    "bam_file = \"../../../../data/bam_sample.bam\"\n",
    "bam = pysam.AlignmentFile(bam_file, \"rb\")\n",
    "for read in bam.fetch():\n",
    "    print(f\"Read ID: {read.query_name}\")\n",
    "    print(f\"Sequence: {read.query_sequence}\")\n",
    "    print(f\"Alignment start: {read.reference_start}\")"
   ]
  },
  {
   "cell_type": "markdown",
   "metadata": {},
   "source": [
    "### BED Format\n",
    "\n",
    "#### Description\n",
    "The BED format is used to describe genomic features such as regions of interest using coordinates. The first three columns are: chromosome name, feature start, and feature end.\n",
    "\n",
    "#### Example BED File"
   ]
  },
  {
   "cell_type": "code",
   "execution_count": 9,
   "metadata": {},
   "outputs": [
    {
     "name": "stdout",
     "output_type": "stream",
     "text": [
      "                        chrom  start  end  name\n",
      "0  chr1  1000  2000  feature1    NaN  NaN   NaN\n",
      "1  chr1  1500  2500  feature2    NaN  NaN   NaN\n"
     ]
    }
   ],
   "source": [
    "import pandas as pd\n",
    "\n",
    "# Read BED file\n",
    "bed_file = \"../../../../data/bed_sample.bed\"\n",
    "bed_df = pd.read_csv(bed_file, sep=\"\\t\", header=None, names=[\"chrom\", \"start\", \"end\", \"name\"])\n",
    "print(bed_df)"
   ]
  },
  {
   "cell_type": "markdown",
   "metadata": {},
   "source": [
    "### VCF Format\n",
    "\n",
    "#### Description\n",
    "The VCF (Variant Call Format) is used to store genomic variants such as SNPs, indels, and other structural variants."
   ]
  },
  {
   "cell_type": "code",
   "execution_count": 10,
   "metadata": {},
   "outputs": [
    {
     "name": "stderr",
     "output_type": "stream",
     "text": [
      "[E::bcf_hdr_parse_sample_line] Could not parse the \"#CHROM..\" line, either the fields are incorrect or spaces are present instead of tabs:\n",
      "\t#CHROM  POS  ID  REF  ALT  QUAL  FILTER  INFO\n",
      "\n"
     ]
    },
    {
     "ename": "ValueError",
     "evalue": "file `b'../../../../data/vcf_sample.vcf'` does not have valid header (mode=`b'r'`) - is it VCF/BCF format?",
     "output_type": "error",
     "traceback": [
      "\u001b[0;31m---------------------------------------------------------------------------\u001b[0m",
      "\u001b[0;31mValueError\u001b[0m                                Traceback (most recent call last)",
      "File \u001b[0;32m~/Documents/Goals/bioinformatic-guide/.venv/lib/python3.10/site-packages/pysam/libcbcf.pyx:4355\u001b[0m, in \u001b[0;36mpysam.libcbcf.VariantFile.open\u001b[0;34m()\u001b[0m\n",
      "File \u001b[0;32m~/Documents/Goals/bioinformatic-guide/.venv/lib/python3.10/site-packages/pysam/libcbcf.pyx:2210\u001b[0m, in \u001b[0;36mpysam.libcbcf.makeVariantHeader\u001b[0;34m()\u001b[0m\n",
      "\u001b[0;31mValueError\u001b[0m: cannot create VariantHeader",
      "\nDuring handling of the above exception, another exception occurred:\n",
      "\u001b[0;31mValueError\u001b[0m                                Traceback (most recent call last)",
      "\u001b[1;32m/Users/andressanchez/Documents/Goals/bioinformatic-guide/notebook-guides/python/genomic_formats/src/formats.ipynb Cell 12\u001b[0m line \u001b[0;36m5\n\u001b[1;32m      <a href='vscode-notebook-cell:/Users/andressanchez/Documents/Goals/bioinformatic-guide/notebook-guides/python/genomic_formats/src/formats.ipynb#X14sZmlsZQ%3D%3D?line=2'>3</a>\u001b[0m \u001b[39m# Read VCF file\u001b[39;00m\n\u001b[1;32m      <a href='vscode-notebook-cell:/Users/andressanchez/Documents/Goals/bioinformatic-guide/notebook-guides/python/genomic_formats/src/formats.ipynb#X14sZmlsZQ%3D%3D?line=3'>4</a>\u001b[0m vcf_file \u001b[39m=\u001b[39m \u001b[39m\"\u001b[39m\u001b[39m../../../../data/vcf_sample.vcf\u001b[39m\u001b[39m\"\u001b[39m\n\u001b[0;32m----> <a href='vscode-notebook-cell:/Users/andressanchez/Documents/Goals/bioinformatic-guide/notebook-guides/python/genomic_formats/src/formats.ipynb#X14sZmlsZQ%3D%3D?line=4'>5</a>\u001b[0m vcf \u001b[39m=\u001b[39m pysam\u001b[39m.\u001b[39;49mVariantFile(vcf_file)\n\u001b[1;32m      <a href='vscode-notebook-cell:/Users/andressanchez/Documents/Goals/bioinformatic-guide/notebook-guides/python/genomic_formats/src/formats.ipynb#X14sZmlsZQ%3D%3D?line=5'>6</a>\u001b[0m \u001b[39mfor\u001b[39;00m record \u001b[39min\u001b[39;00m vcf\u001b[39m.\u001b[39mfetch():\n\u001b[1;32m      <a href='vscode-notebook-cell:/Users/andressanchez/Documents/Goals/bioinformatic-guide/notebook-guides/python/genomic_formats/src/formats.ipynb#X14sZmlsZQ%3D%3D?line=6'>7</a>\u001b[0m     \u001b[39mprint\u001b[39m(\u001b[39mf\u001b[39m\u001b[39m\"\u001b[39m\u001b[39mChromosome: \u001b[39m\u001b[39m{\u001b[39;00mrecord\u001b[39m.\u001b[39mchrom\u001b[39m}\u001b[39;00m\u001b[39m\"\u001b[39m)\n",
      "File \u001b[0;32m~/Documents/Goals/bioinformatic-guide/.venv/lib/python3.10/site-packages/pysam/libcbcf.pyx:4117\u001b[0m, in \u001b[0;36mpysam.libcbcf.VariantFile.__init__\u001b[0;34m()\u001b[0m\n",
      "File \u001b[0;32m~/Documents/Goals/bioinformatic-guide/.venv/lib/python3.10/site-packages/pysam/libcbcf.pyx:4357\u001b[0m, in \u001b[0;36mpysam.libcbcf.VariantFile.open\u001b[0;34m()\u001b[0m\n",
      "\u001b[0;31mValueError\u001b[0m: file `b'../../../../data/vcf_sample.vcf'` does not have valid header (mode=`b'r'`) - is it VCF/BCF format?"
     ]
    }
   ],
   "source": [
    "import pysam\n",
    "\n",
    "# Read VCF file\n",
    "vcf_file = \"../../../../data/vcf_sample.vcf\"\n",
    "vcf = pysam.VariantFile(vcf_file)\n",
    "for record in vcf.fetch():\n",
    "    print(f\"Chromosome: {record.chrom}\")\n",
    "    print(f\"Position: {record.pos}\")\n",
    "    print(f\"ID: {record.id}\")\n",
    "    print(f\"Reference: {record.ref}\")\n",
    "    print(f\"Alternate: {record.alts}\")\n",
    "    print(f\"Quality: {record.qual}\")\n",
    "    print(f\"Filter: {record.filter.keys()}\")\n",
    "    print(f\"Info: {record.info}\")"
   ]
  },
  {
   "cell_type": "markdown",
   "metadata": {},
   "source": [
    "Now we see the structure of the most basic non binary formartmats we can start exploring some good architecture practices to store and process it.\n",
    "\n",
    "Depending of the kind of project we are working, we will need to store and process different genomic formats. Lets supose we have a client which need to store every kind of bioinformatic formats, raw reads (BCL) and processed files (FASTA, FASTQ, GFF3, SAM, VCF).\n",
    "\n",
    "For raw read formats, these can be stored in a data lake using S3, where they can be indexed and partitioned for easier access using patters susch as tenant/year/month/day/file/ which will then be used to process them and run the secondary analyses that will generate the other formats that will allow us to extract information of interest to produce biological insights. "
   ]
  },
  {
   "cell_type": "markdown",
   "metadata": {},
   "source": [
    "BCL to (FASTA or FASTAQ)"
   ]
  },
  {
   "cell_type": "markdown",
   "metadata": {},
   "source": []
  }
 ],
 "metadata": {
  "kernelspec": {
   "display_name": "Python 3 (ipykernel)",
   "language": "python",
   "name": "python3"
  },
  "language_info": {
   "codemirror_mode": {
    "name": "ipython",
    "version": 3
   },
   "file_extension": ".py",
   "mimetype": "text/x-python",
   "name": "python",
   "nbconvert_exporter": "python",
   "pygments_lexer": "ipython3",
   "version": "3.10.13"
  }
 },
 "nbformat": 4,
 "nbformat_minor": 1
}
