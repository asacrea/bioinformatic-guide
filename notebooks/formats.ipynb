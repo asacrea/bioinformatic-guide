{
 "cells": [
  {
   "cell_type": "code",
   "execution_count": null,
   "metadata": {
    "pycharm": {
     "is_executing": true
    }
   },
   "outputs": [],
   "source": [
    "import os\n",
    "import pysam\n",
    "import pandas as pd\n",
    "from Bio import SeqIO"
   ]
  },
  {
   "cell_type": "markdown",
   "metadata": {},
   "source": [
    "# Bioinformatic File Formats Notebook"
   ]
  },
  {
   "cell_type": "markdown",
   "metadata": {},
   "source": [
    "## Introduction\n",
    "In this notebook, we will explore some of the most common bioinformatics file formats: FASTA, BAM, BED, and VCF. We will see how these files are structured and how to read them using Python.\n"
   ]
  },
  {
   "cell_type": "markdown",
   "metadata": {},
   "source": [
    "## Requirements\n",
    "To follow along with this notebook, you need to install the following libraries:\n",
    "```bash\n",
    "pip install biopython pysam pandas"
   ]
  },
  {
   "cell_type": "markdown",
   "metadata": {},
   "source": [
    "### Fasta Format\n",
    "#### Description\n",
    "The FASTA format is used to represent nucleotide or protein sequences. Each sequence begins with a description line starting with '>', followed by lines of sequence data.\n",
    "\n",
    "##### Reading FASTA Files in Python\n",
    "We will use the Biopython library to read FASTA files."
   ]
  },
  {
   "cell_type": "code",
   "execution_count": null,
   "metadata": {},
   "outputs": [],
   "source": [
    "from Bio import SeqIO\n",
    "\n",
    "# Read FASTA file\n",
    "fasta_file = \"example.fasta\"\n",
    "for record in SeqIO.parse(fasta_file, \"fasta\"):\n",
    "    print(f\"ID: {record.id}\")\n",
    "    print(f\"Sequence: {record.seq}\")"
   ]
  },
  {
   "cell_type": "markdown",
   "metadata": {},
   "source": [
    "### BAM Format\n",
    "\n",
    "#### Description\n",
    "The BAM format is the binary version of the SAM format, used to store sequence alignments. It is space-efficient and allows for fast access.\n",
    "\n",
    "BAM files Can not be shown directly as it is a binary format.\n",
    "\n",
    "##### Reading BAM Files in Python\n",
    "We will use the pysam library to read BAM files."
   ]
  },
  {
   "cell_type": "code",
   "execution_count": null,
   "metadata": {},
   "outputs": [],
   "source": [
    "import pysam\n",
    "\n",
    "# Read BAM file\n",
    "bam_file = \"example.bam\"\n",
    "bam = pysam.AlignmentFile(bam_file, \"rb\")\n",
    "for read in bam.fetch():\n",
    "    print(f\"Read ID: {read.query_name}\")\n",
    "    print(f\"Sequence: {read.query_sequence}\")\n",
    "    print(f\"Alignment start: {read.reference_start}\")"
   ]
  },
  {
   "cell_type": "markdown",
   "metadata": {},
   "source": [
    "### BED Format\n",
    "\n",
    "#### Description\n",
    "The BED format is used to describe genomic features such as regions of interest using coordinates. The first three columns are: chromosome name, feature start, and feature end.\n",
    "\n",
    "#### Example BED File"
   ]
  },
  {
   "cell_type": "code",
   "execution_count": null,
   "metadata": {},
   "outputs": [],
   "source": [
    "import pandas as pd\n",
    "\n",
    "# Read BED file\n",
    "bed_file = \"example.bed\"\n",
    "bed_df = pd.read_csv(bed_file, sep=\"\\t\", header=None, names=[\"chrom\", \"start\", \"end\", \"name\"])\n",
    "print(bed_df)"
   ]
  },
  {
   "cell_type": "markdown",
   "metadata": {},
   "source": [
    "### VCF Format\n",
    "\n",
    "#### Description\n",
    "The VCF (Variant Call Format) is used to store genomic variants such as SNPs, indels, and other structural variants."
   ]
  },
  {
   "cell_type": "code",
   "execution_count": null,
   "metadata": {},
   "outputs": [],
   "source": [
    "import pysam\n",
    "\n",
    "# Read VCF file\n",
    "vcf_file = \"example.vcf\"\n",
    "vcf = pysam.VariantFile(vcf_file)\n",
    "for record in vcf.fetch():\n",
    "    print(f\"Chromosome: {record.chrom}\")\n",
    "    print(f\"Position: {record.pos}\")\n",
    "    print(f\"ID: {record.id}\")\n",
    "    print(f\"Reference: {record.ref}\")\n",
    "    print(f\"Alternate: {record.alts}\")\n",
    "    print(f\"Quality: {record.qual}\")\n",
    "    print(f\"Filter: {record.filter.keys()}\")\n",
    "    print(f\"Info: {record.info}\")"
   ]
  }
 ],
 "metadata": {
  "kernelspec": {
   "display_name": "Python 3 (ipykernel)",
   "language": "python",
   "name": "python3"
  },
  "language_info": {
   "codemirror_mode": {
    "name": "ipython",
    "version": 3
   },
   "file_extension": ".py",
   "mimetype": "text/x-python",
   "name": "python",
   "nbconvert_exporter": "python",
   "pygments_lexer": "ipython3",
   "version": "3.11.2"
  }
 },
 "nbformat": 4,
 "nbformat_minor": 1
}
